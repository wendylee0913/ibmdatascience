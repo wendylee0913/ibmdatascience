{
 "cells": [
  {
   "cell_type": "markdown",
   "id": "631b3628-2058-413d-bdab-8eee92063874",
   "metadata": {},
   "source": [
    "# Data Science Tools and Ecosystem"
   ]
  },
  {
   "cell_type": "markdown",
   "id": "9607d0ed-370c-45cd-ad29-906b573b63b3",
   "metadata": {},
   "source": [
    "In this notebook, Data Science Tools and Ecosystem are summarized."
   ]
  },
  {
   "cell_type": "markdown",
   "id": "25b4fb95-2f34-415c-9751-65e556033708",
   "metadata": {},
   "source": [
    "**Objectives:**"
   ]
  },
  {
   "cell_type": "markdown",
   "id": "0be39ce2-8d10-4163-8c2f-76cabec22e6f",
   "metadata": {},
   "source": [
    "- List popular language for Data Science\n",
    "- List commonly used libraries for Data Science\n",
    "- List commonly used Data Science Tools"
   ]
  },
  {
   "cell_type": "markdown",
   "id": "1eaa89bb-caa2-4b03-9024-23988ec11591",
   "metadata": {},
   "source": [
    "Some of the popular languages that Data Scientists use are:"
   ]
  },
  {
   "cell_type": "markdown",
   "id": "a4e47b59-cdbc-429d-89dd-2c03c25343b7",
   "metadata": {},
   "source": [
    "1. Python,\n",
    "2. R,\n",
    "3. SQL,\n",
    "4. Java"
   ]
  },
  {
   "cell_type": "markdown",
   "id": "b529ce98-36ad-4c95-8e47-fb32bd642980",
   "metadata": {},
   "source": [
    "Some of the commonly used libraries used by Data Scientists include:"
   ]
  },
  {
   "cell_type": "markdown",
   "id": "3c4ee40f-3a0d-429a-9722-3cace21e1da5",
   "metadata": {},
   "source": [
    "1. Pandas,\n",
    "2. NumPy,\n",
    "3. Matplotlib,\n",
    "4. Seaborn"
   ]
  },
  {
   "cell_type": "markdown",
   "id": "fed54180-1867-40dc-be23-6a96b99d1a11",
   "metadata": {},
   "source": [
    "| Data Science Tools |\n",
    "| ------------------ |\n",
    "| Jupyter Notebooks  |\n",
    "|      RStudio       |\n",
    "|   Apache Zeppelin  |"
   ]
  },
  {
   "cell_type": "markdown",
   "id": "af7fcc04-762d-4e6e-92e0-9b8f8d205c3f",
   "metadata": {},
   "source": [
    "### Below are a few examples of evaluating arithmetic expressions in Python"
   ]
  },
  {
   "cell_type": "code",
   "execution_count": 1,
   "id": "f5a1edc0-aea1-47e5-aa87-c96098964714",
   "metadata": {
    "tags": []
   },
   "outputs": [
    {
     "data": {
      "text/plain": [
       "17"
      ]
     },
     "execution_count": 1,
     "metadata": {},
     "output_type": "execute_result"
    }
   ],
   "source": [
    "(3*4)+5\n",
    "# This a simple arithmetic expression to mutiply then add integers"
   ]
  },
  {
   "cell_type": "code",
   "execution_count": 2,
   "id": "726df418-e747-4b31-80c9-d419efd47621",
   "metadata": {
    "tags": []
   },
   "outputs": [
    {
     "data": {
      "text/plain": [
       "3.3333333333333335"
      ]
     },
     "execution_count": 2,
     "metadata": {},
     "output_type": "execute_result"
    }
   ],
   "source": [
    "200/60\n",
    "# This will convert 200 minutes to hours by diving by 60"
   ]
  },
  {
   "cell_type": "markdown",
   "id": "c4b2e67c-4625-475f-bed9-987148681759",
   "metadata": {},
   "source": [
    "## Author\n",
    "Wendy Lee"
   ]
  },
  {
   "cell_type": "code",
   "execution_count": null,
   "id": "34fd15e9-268c-4901-b42c-6b065e813224",
   "metadata": {},
   "outputs": [],
   "source": []
  }
 ],
 "metadata": {
  "kernelspec": {
   "display_name": "Python",
   "language": "python",
   "name": "conda-env-python-py"
  },
  "language_info": {
   "codemirror_mode": {
    "name": "ipython",
    "version": 3
   },
   "file_extension": ".py",
   "mimetype": "text/x-python",
   "name": "python",
   "nbconvert_exporter": "python",
   "pygments_lexer": "ipython3",
   "version": "3.7.12"
  }
 },
 "nbformat": 4,
 "nbformat_minor": 5
}
